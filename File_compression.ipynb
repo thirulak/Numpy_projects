{
  "nbformat": 4,
  "nbformat_minor": 0,
  "metadata": {
    "colab": {
      "name": "File_compression.ipynb",
      "provenance": [],
      "authorship_tag": "ABX9TyNpygYZ0Y9zIpQkkWBLhlsb"
    },
    "kernelspec": {
      "name": "python3",
      "display_name": "Python 3"
    }
  },
  "cells": [
    {
      "cell_type": "markdown",
      "metadata": {
        "id": "ga5onn0IiFTu",
        "colab_type": "text"
      },
      "source": [
        "#File compression using numpy operations"
      ]
    },
    {
      "cell_type": "code",
      "metadata": {
        "id": "kZXoxgrihSg5",
        "colab_type": "code",
        "colab": {
          "base_uri": "https://localhost:8080/",
          "height": 847
        },
        "outputId": "9b5ac2b6-90fc-4704-f808-5ea8b830a305"
      },
      "source": [
        "import numpy as np\n",
        "petrol = np.genfromtxt(\"petrol.txt\",skip_header=1)\n",
        "#here default whitespace delimiter is used\n",
        "petrol"
      ],
      "execution_count": 1,
      "outputs": [
        {
          "output_type": "execute_result",
          "data": {
            "text/plain": [
              "array([[9.0000e+00, 3.5710e+03, 1.9760e+03, 5.2500e-01, 5.4100e+02],\n",
              "       [9.0000e+00, 4.0920e+03, 1.2500e+03, 5.7200e-01, 5.2400e+02],\n",
              "       [9.0000e+00, 3.8650e+03, 1.5860e+03, 5.8000e-01, 5.6100e+02],\n",
              "       [7.5000e+00, 4.8700e+03, 2.3510e+03, 5.2900e-01, 4.1400e+02],\n",
              "       [8.0000e+00, 4.3990e+03, 4.3100e+02, 5.4400e-01, 4.1000e+02],\n",
              "       [1.0000e+01, 5.3420e+03, 1.3330e+03, 5.7100e-01, 4.5700e+02],\n",
              "       [8.0000e+00, 5.3190e+03, 1.1868e+04, 4.5100e-01, 3.4400e+02],\n",
              "       [8.0000e+00, 5.1260e+03, 2.1380e+03, 5.5300e-01, 4.6700e+02],\n",
              "       [8.0000e+00, 4.4470e+03, 8.5770e+03, 5.2900e-01, 4.6400e+02],\n",
              "       [7.0000e+00, 4.5120e+03, 8.5070e+03, 5.5200e-01, 4.9800e+02],\n",
              "       [8.0000e+00, 4.3910e+03, 5.9390e+03, 5.3000e-01, 5.8000e+02],\n",
              "       [7.5000e+00, 5.1260e+03, 1.4186e+04, 5.2500e-01, 4.7100e+02],\n",
              "       [7.0000e+00, 4.8170e+03, 6.9300e+03, 5.7400e-01, 5.2500e+02],\n",
              "       [7.0000e+00, 4.2070e+03, 6.5800e+03, 5.4500e-01, 5.0800e+02],\n",
              "       [7.0000e+00, 4.3320e+03, 8.1590e+03, 6.0800e-01, 5.6600e+02],\n",
              "       [7.0000e+00, 4.3180e+03, 1.0340e+04, 5.8600e-01, 6.3500e+02],\n",
              "       [7.0000e+00, 4.2060e+03, 8.5080e+03, 5.7200e-01, 6.0300e+02],\n",
              "       [7.0000e+00, 3.7180e+03, 4.7250e+03, 5.4000e-01, 7.1400e+02],\n",
              "       [7.0000e+00, 4.7160e+03, 5.9150e+03, 7.2400e-01, 8.6500e+02],\n",
              "       [8.5000e+00, 4.3410e+03, 6.0100e+03, 6.7700e-01, 6.4000e+02],\n",
              "       [7.0000e+00, 4.5930e+03, 7.8340e+03, 6.6300e-01, 6.4900e+02],\n",
              "       [8.0000e+00, 4.9830e+03, 6.0200e+02, 6.0200e-01, 5.4000e+02],\n",
              "       [9.0000e+00, 4.8970e+03, 2.4490e+03, 5.1100e-01, 4.6400e+02],\n",
              "       [9.0000e+00, 4.2580e+03, 4.6860e+03, 5.1700e-01, 5.4700e+02],\n",
              "       [8.5000e+00, 4.5740e+03,        nan, 5.5100e-01, 4.6000e+02],\n",
              "       [9.0000e+00, 3.7210e+03, 4.7460e+03, 5.4400e-01, 5.6600e+02],\n",
              "       [8.0000e+00, 3.4480e+03, 5.3990e+03, 5.4800e-01, 5.7700e+02],\n",
              "       [7.5000e+00, 3.8460e+03, 9.0610e+03, 5.7900e-01, 6.3100e+02],\n",
              "       [8.0000e+00, 4.1880e+03, 5.9750e+03, 5.6300e-01, 5.7400e+02],\n",
              "       [9.0000e+00, 3.6010e+03, 4.6500e+03, 4.9300e-01, 5.3400e+02],\n",
              "       [7.0000e+00, 3.6400e+03, 6.9050e+03, 5.1800e-01, 5.7100e+02],\n",
              "       [7.0000e+00, 3.3330e+03, 6.5940e+03, 5.1300e-01, 5.5400e+02],\n",
              "       [8.0000e+00, 3.0630e+03, 6.5240e+03, 5.7800e-01, 5.7700e+02],\n",
              "       [7.5000e+00, 3.3570e+03, 4.1210e+03, 5.4700e-01, 6.2800e+02],\n",
              "       [8.0000e+00, 3.5280e+03, 3.4950e+03, 4.8700e-01, 4.8700e+02],\n",
              "       [6.5800e+00, 3.8020e+03, 7.8340e+03, 6.2900e-01, 6.4400e+02],\n",
              "       [5.0000e+00, 4.0450e+03, 1.7782e+04, 5.6600e-01, 6.4000e+02],\n",
              "       [7.0000e+00, 3.8970e+03, 6.3850e+03, 5.8600e-01, 7.0400e+02],\n",
              "       [8.5000e+00, 3.6350e+03, 3.2740e+03, 6.6300e-01, 6.4800e+02],\n",
              "       [7.0000e+00, 4.3450e+03, 3.9050e+03, 6.7200e-01, 9.6800e+02],\n",
              "       [7.0000e+00, 4.4490e+03, 4.6390e+03, 6.2600e-01, 5.8700e+02],\n",
              "       [7.0000e+00, 3.6560e+03, 3.9850e+03, 5.6300e-01, 6.9900e+02],\n",
              "       [7.0000e+00, 4.3000e+03, 3.6350e+03, 6.0300e-01, 6.3200e+02],\n",
              "       [7.0000e+00, 3.7450e+03, 2.6110e+03, 5.0800e-01, 5.9100e+02],\n",
              "       [6.0000e+00, 5.2150e+03, 2.3020e+03, 6.7200e-01, 7.8200e+02],\n",
              "       [9.0000e+00, 4.4760e+03, 3.9420e+03, 5.7100e-01, 5.1000e+02],\n",
              "       [7.0000e+00, 4.2960e+03, 4.0830e+03, 6.2300e-01, 6.1000e+02],\n",
              "       [7.0000e+00, 5.0020e+03, 9.7940e+03, 5.9300e-01, 5.2400e+02]])"
            ]
          },
          "metadata": {
            "tags": []
          },
          "execution_count": 1
        }
      ]
    },
    {
      "cell_type": "code",
      "metadata": {
        "id": "mBN4IcO4ia0H",
        "colab_type": "code",
        "colab": {
          "base_uri": "https://localhost:8080/",
          "height": 34
        },
        "outputId": "03e72e9f-2814-4d50-feb9-dc2896f0a99f"
      },
      "source": [
        "petrol.shape"
      ],
      "execution_count": 2,
      "outputs": [
        {
          "output_type": "execute_result",
          "data": {
            "text/plain": [
              "(48, 5)"
            ]
          },
          "metadata": {
            "tags": []
          },
          "execution_count": 2
        }
      ]
    },
    {
      "cell_type": "code",
      "metadata": {
        "id": "Mwk77OZBieHR",
        "colab_type": "code",
        "colab": {
          "base_uri": "https://localhost:8080/",
          "height": 847
        },
        "outputId": "484f6b58-c0de-469e-e480-83747db650ae"
      },
      "source": [
        "np.isnan(petrol)#To know the Nan points, we get true in the places that are nan"
      ],
      "execution_count": 3,
      "outputs": [
        {
          "output_type": "execute_result",
          "data": {
            "text/plain": [
              "array([[False, False, False, False, False],\n",
              "       [False, False, False, False, False],\n",
              "       [False, False, False, False, False],\n",
              "       [False, False, False, False, False],\n",
              "       [False, False, False, False, False],\n",
              "       [False, False, False, False, False],\n",
              "       [False, False, False, False, False],\n",
              "       [False, False, False, False, False],\n",
              "       [False, False, False, False, False],\n",
              "       [False, False, False, False, False],\n",
              "       [False, False, False, False, False],\n",
              "       [False, False, False, False, False],\n",
              "       [False, False, False, False, False],\n",
              "       [False, False, False, False, False],\n",
              "       [False, False, False, False, False],\n",
              "       [False, False, False, False, False],\n",
              "       [False, False, False, False, False],\n",
              "       [False, False, False, False, False],\n",
              "       [False, False, False, False, False],\n",
              "       [False, False, False, False, False],\n",
              "       [False, False, False, False, False],\n",
              "       [False, False, False, False, False],\n",
              "       [False, False, False, False, False],\n",
              "       [False, False, False, False, False],\n",
              "       [False, False,  True, False, False],\n",
              "       [False, False, False, False, False],\n",
              "       [False, False, False, False, False],\n",
              "       [False, False, False, False, False],\n",
              "       [False, False, False, False, False],\n",
              "       [False, False, False, False, False],\n",
              "       [False, False, False, False, False],\n",
              "       [False, False, False, False, False],\n",
              "       [False, False, False, False, False],\n",
              "       [False, False, False, False, False],\n",
              "       [False, False, False, False, False],\n",
              "       [False, False, False, False, False],\n",
              "       [False, False, False, False, False],\n",
              "       [False, False, False, False, False],\n",
              "       [False, False, False, False, False],\n",
              "       [False, False, False, False, False],\n",
              "       [False, False, False, False, False],\n",
              "       [False, False, False, False, False],\n",
              "       [False, False, False, False, False],\n",
              "       [False, False, False, False, False],\n",
              "       [False, False, False, False, False],\n",
              "       [False, False, False, False, False],\n",
              "       [False, False, False, False, False],\n",
              "       [False, False, False, False, False]])"
            ]
          },
          "metadata": {
            "tags": []
          },
          "execution_count": 3
        }
      ]
    },
    {
      "cell_type": "code",
      "metadata": {
        "id": "TgnuYqG9ij4A",
        "colab_type": "code",
        "colab": {
          "base_uri": "https://localhost:8080/",
          "height": 847
        },
        "outputId": "96d5574d-e262-4eb6-ee8a-9ab54cb77e5d"
      },
      "source": [
        "#converting nan to num,replace nan with -1 as it contains one nan value\n",
        "#nan_to_num is a function already present in numpy\n",
        "petrol_new= np.nan_to_num(petrol, nan=-1)\n",
        "petrol_new"
      ],
      "execution_count": 4,
      "outputs": [
        {
          "output_type": "execute_result",
          "data": {
            "text/plain": [
              "array([[ 9.0000e+00,  3.5710e+03,  1.9760e+03,  5.2500e-01,  5.4100e+02],\n",
              "       [ 9.0000e+00,  4.0920e+03,  1.2500e+03,  5.7200e-01,  5.2400e+02],\n",
              "       [ 9.0000e+00,  3.8650e+03,  1.5860e+03,  5.8000e-01,  5.6100e+02],\n",
              "       [ 7.5000e+00,  4.8700e+03,  2.3510e+03,  5.2900e-01,  4.1400e+02],\n",
              "       [ 8.0000e+00,  4.3990e+03,  4.3100e+02,  5.4400e-01,  4.1000e+02],\n",
              "       [ 1.0000e+01,  5.3420e+03,  1.3330e+03,  5.7100e-01,  4.5700e+02],\n",
              "       [ 8.0000e+00,  5.3190e+03,  1.1868e+04,  4.5100e-01,  3.4400e+02],\n",
              "       [ 8.0000e+00,  5.1260e+03,  2.1380e+03,  5.5300e-01,  4.6700e+02],\n",
              "       [ 8.0000e+00,  4.4470e+03,  8.5770e+03,  5.2900e-01,  4.6400e+02],\n",
              "       [ 7.0000e+00,  4.5120e+03,  8.5070e+03,  5.5200e-01,  4.9800e+02],\n",
              "       [ 8.0000e+00,  4.3910e+03,  5.9390e+03,  5.3000e-01,  5.8000e+02],\n",
              "       [ 7.5000e+00,  5.1260e+03,  1.4186e+04,  5.2500e-01,  4.7100e+02],\n",
              "       [ 7.0000e+00,  4.8170e+03,  6.9300e+03,  5.7400e-01,  5.2500e+02],\n",
              "       [ 7.0000e+00,  4.2070e+03,  6.5800e+03,  5.4500e-01,  5.0800e+02],\n",
              "       [ 7.0000e+00,  4.3320e+03,  8.1590e+03,  6.0800e-01,  5.6600e+02],\n",
              "       [ 7.0000e+00,  4.3180e+03,  1.0340e+04,  5.8600e-01,  6.3500e+02],\n",
              "       [ 7.0000e+00,  4.2060e+03,  8.5080e+03,  5.7200e-01,  6.0300e+02],\n",
              "       [ 7.0000e+00,  3.7180e+03,  4.7250e+03,  5.4000e-01,  7.1400e+02],\n",
              "       [ 7.0000e+00,  4.7160e+03,  5.9150e+03,  7.2400e-01,  8.6500e+02],\n",
              "       [ 8.5000e+00,  4.3410e+03,  6.0100e+03,  6.7700e-01,  6.4000e+02],\n",
              "       [ 7.0000e+00,  4.5930e+03,  7.8340e+03,  6.6300e-01,  6.4900e+02],\n",
              "       [ 8.0000e+00,  4.9830e+03,  6.0200e+02,  6.0200e-01,  5.4000e+02],\n",
              "       [ 9.0000e+00,  4.8970e+03,  2.4490e+03,  5.1100e-01,  4.6400e+02],\n",
              "       [ 9.0000e+00,  4.2580e+03,  4.6860e+03,  5.1700e-01,  5.4700e+02],\n",
              "       [ 8.5000e+00,  4.5740e+03, -1.0000e+00,  5.5100e-01,  4.6000e+02],\n",
              "       [ 9.0000e+00,  3.7210e+03,  4.7460e+03,  5.4400e-01,  5.6600e+02],\n",
              "       [ 8.0000e+00,  3.4480e+03,  5.3990e+03,  5.4800e-01,  5.7700e+02],\n",
              "       [ 7.5000e+00,  3.8460e+03,  9.0610e+03,  5.7900e-01,  6.3100e+02],\n",
              "       [ 8.0000e+00,  4.1880e+03,  5.9750e+03,  5.6300e-01,  5.7400e+02],\n",
              "       [ 9.0000e+00,  3.6010e+03,  4.6500e+03,  4.9300e-01,  5.3400e+02],\n",
              "       [ 7.0000e+00,  3.6400e+03,  6.9050e+03,  5.1800e-01,  5.7100e+02],\n",
              "       [ 7.0000e+00,  3.3330e+03,  6.5940e+03,  5.1300e-01,  5.5400e+02],\n",
              "       [ 8.0000e+00,  3.0630e+03,  6.5240e+03,  5.7800e-01,  5.7700e+02],\n",
              "       [ 7.5000e+00,  3.3570e+03,  4.1210e+03,  5.4700e-01,  6.2800e+02],\n",
              "       [ 8.0000e+00,  3.5280e+03,  3.4950e+03,  4.8700e-01,  4.8700e+02],\n",
              "       [ 6.5800e+00,  3.8020e+03,  7.8340e+03,  6.2900e-01,  6.4400e+02],\n",
              "       [ 5.0000e+00,  4.0450e+03,  1.7782e+04,  5.6600e-01,  6.4000e+02],\n",
              "       [ 7.0000e+00,  3.8970e+03,  6.3850e+03,  5.8600e-01,  7.0400e+02],\n",
              "       [ 8.5000e+00,  3.6350e+03,  3.2740e+03,  6.6300e-01,  6.4800e+02],\n",
              "       [ 7.0000e+00,  4.3450e+03,  3.9050e+03,  6.7200e-01,  9.6800e+02],\n",
              "       [ 7.0000e+00,  4.4490e+03,  4.6390e+03,  6.2600e-01,  5.8700e+02],\n",
              "       [ 7.0000e+00,  3.6560e+03,  3.9850e+03,  5.6300e-01,  6.9900e+02],\n",
              "       [ 7.0000e+00,  4.3000e+03,  3.6350e+03,  6.0300e-01,  6.3200e+02],\n",
              "       [ 7.0000e+00,  3.7450e+03,  2.6110e+03,  5.0800e-01,  5.9100e+02],\n",
              "       [ 6.0000e+00,  5.2150e+03,  2.3020e+03,  6.7200e-01,  7.8200e+02],\n",
              "       [ 9.0000e+00,  4.4760e+03,  3.9420e+03,  5.7100e-01,  5.1000e+02],\n",
              "       [ 7.0000e+00,  4.2960e+03,  4.0830e+03,  6.2300e-01,  6.1000e+02],\n",
              "       [ 7.0000e+00,  5.0020e+03,  9.7940e+03,  5.9300e-01,  5.2400e+02]])"
            ]
          },
          "metadata": {
            "tags": []
          },
          "execution_count": 4
        }
      ]
    },
    {
      "cell_type": "code",
      "metadata": {
        "id": "zYLyqVBFir4k",
        "colab_type": "code",
        "colab": {
          "base_uri": "https://localhost:8080/",
          "height": 847
        },
        "outputId": "31964902-42d3-45bf-be6b-008f1e9190ee"
      },
      "source": [
        "np.isnan(petrol_new) #To verify "
      ],
      "execution_count": 5,
      "outputs": [
        {
          "output_type": "execute_result",
          "data": {
            "text/plain": [
              "array([[False, False, False, False, False],\n",
              "       [False, False, False, False, False],\n",
              "       [False, False, False, False, False],\n",
              "       [False, False, False, False, False],\n",
              "       [False, False, False, False, False],\n",
              "       [False, False, False, False, False],\n",
              "       [False, False, False, False, False],\n",
              "       [False, False, False, False, False],\n",
              "       [False, False, False, False, False],\n",
              "       [False, False, False, False, False],\n",
              "       [False, False, False, False, False],\n",
              "       [False, False, False, False, False],\n",
              "       [False, False, False, False, False],\n",
              "       [False, False, False, False, False],\n",
              "       [False, False, False, False, False],\n",
              "       [False, False, False, False, False],\n",
              "       [False, False, False, False, False],\n",
              "       [False, False, False, False, False],\n",
              "       [False, False, False, False, False],\n",
              "       [False, False, False, False, False],\n",
              "       [False, False, False, False, False],\n",
              "       [False, False, False, False, False],\n",
              "       [False, False, False, False, False],\n",
              "       [False, False, False, False, False],\n",
              "       [False, False, False, False, False],\n",
              "       [False, False, False, False, False],\n",
              "       [False, False, False, False, False],\n",
              "       [False, False, False, False, False],\n",
              "       [False, False, False, False, False],\n",
              "       [False, False, False, False, False],\n",
              "       [False, False, False, False, False],\n",
              "       [False, False, False, False, False],\n",
              "       [False, False, False, False, False],\n",
              "       [False, False, False, False, False],\n",
              "       [False, False, False, False, False],\n",
              "       [False, False, False, False, False],\n",
              "       [False, False, False, False, False],\n",
              "       [False, False, False, False, False],\n",
              "       [False, False, False, False, False],\n",
              "       [False, False, False, False, False],\n",
              "       [False, False, False, False, False],\n",
              "       [False, False, False, False, False],\n",
              "       [False, False, False, False, False],\n",
              "       [False, False, False, False, False],\n",
              "       [False, False, False, False, False],\n",
              "       [False, False, False, False, False],\n",
              "       [False, False, False, False, False],\n",
              "       [False, False, False, False, False]])"
            ]
          },
          "metadata": {
            "tags": []
          },
          "execution_count": 5
        }
      ]
    },
    {
      "cell_type": "code",
      "metadata": {
        "id": "uKndj_47iw6G",
        "colab_type": "code",
        "colab": {
          "base_uri": "https://localhost:8080/",
          "height": 847
        },
        "outputId": "0b051c9f-9a44-4c99-b630-01d835dc99da"
      },
      "source": [
        "#To save this txt in a new file \n",
        "np.savetxt('petrol_new.txt',petrol_new,delimiter=',')\n",
        "petrol_new"
      ],
      "execution_count": 6,
      "outputs": [
        {
          "output_type": "execute_result",
          "data": {
            "text/plain": [
              "array([[ 9.0000e+00,  3.5710e+03,  1.9760e+03,  5.2500e-01,  5.4100e+02],\n",
              "       [ 9.0000e+00,  4.0920e+03,  1.2500e+03,  5.7200e-01,  5.2400e+02],\n",
              "       [ 9.0000e+00,  3.8650e+03,  1.5860e+03,  5.8000e-01,  5.6100e+02],\n",
              "       [ 7.5000e+00,  4.8700e+03,  2.3510e+03,  5.2900e-01,  4.1400e+02],\n",
              "       [ 8.0000e+00,  4.3990e+03,  4.3100e+02,  5.4400e-01,  4.1000e+02],\n",
              "       [ 1.0000e+01,  5.3420e+03,  1.3330e+03,  5.7100e-01,  4.5700e+02],\n",
              "       [ 8.0000e+00,  5.3190e+03,  1.1868e+04,  4.5100e-01,  3.4400e+02],\n",
              "       [ 8.0000e+00,  5.1260e+03,  2.1380e+03,  5.5300e-01,  4.6700e+02],\n",
              "       [ 8.0000e+00,  4.4470e+03,  8.5770e+03,  5.2900e-01,  4.6400e+02],\n",
              "       [ 7.0000e+00,  4.5120e+03,  8.5070e+03,  5.5200e-01,  4.9800e+02],\n",
              "       [ 8.0000e+00,  4.3910e+03,  5.9390e+03,  5.3000e-01,  5.8000e+02],\n",
              "       [ 7.5000e+00,  5.1260e+03,  1.4186e+04,  5.2500e-01,  4.7100e+02],\n",
              "       [ 7.0000e+00,  4.8170e+03,  6.9300e+03,  5.7400e-01,  5.2500e+02],\n",
              "       [ 7.0000e+00,  4.2070e+03,  6.5800e+03,  5.4500e-01,  5.0800e+02],\n",
              "       [ 7.0000e+00,  4.3320e+03,  8.1590e+03,  6.0800e-01,  5.6600e+02],\n",
              "       [ 7.0000e+00,  4.3180e+03,  1.0340e+04,  5.8600e-01,  6.3500e+02],\n",
              "       [ 7.0000e+00,  4.2060e+03,  8.5080e+03,  5.7200e-01,  6.0300e+02],\n",
              "       [ 7.0000e+00,  3.7180e+03,  4.7250e+03,  5.4000e-01,  7.1400e+02],\n",
              "       [ 7.0000e+00,  4.7160e+03,  5.9150e+03,  7.2400e-01,  8.6500e+02],\n",
              "       [ 8.5000e+00,  4.3410e+03,  6.0100e+03,  6.7700e-01,  6.4000e+02],\n",
              "       [ 7.0000e+00,  4.5930e+03,  7.8340e+03,  6.6300e-01,  6.4900e+02],\n",
              "       [ 8.0000e+00,  4.9830e+03,  6.0200e+02,  6.0200e-01,  5.4000e+02],\n",
              "       [ 9.0000e+00,  4.8970e+03,  2.4490e+03,  5.1100e-01,  4.6400e+02],\n",
              "       [ 9.0000e+00,  4.2580e+03,  4.6860e+03,  5.1700e-01,  5.4700e+02],\n",
              "       [ 8.5000e+00,  4.5740e+03, -1.0000e+00,  5.5100e-01,  4.6000e+02],\n",
              "       [ 9.0000e+00,  3.7210e+03,  4.7460e+03,  5.4400e-01,  5.6600e+02],\n",
              "       [ 8.0000e+00,  3.4480e+03,  5.3990e+03,  5.4800e-01,  5.7700e+02],\n",
              "       [ 7.5000e+00,  3.8460e+03,  9.0610e+03,  5.7900e-01,  6.3100e+02],\n",
              "       [ 8.0000e+00,  4.1880e+03,  5.9750e+03,  5.6300e-01,  5.7400e+02],\n",
              "       [ 9.0000e+00,  3.6010e+03,  4.6500e+03,  4.9300e-01,  5.3400e+02],\n",
              "       [ 7.0000e+00,  3.6400e+03,  6.9050e+03,  5.1800e-01,  5.7100e+02],\n",
              "       [ 7.0000e+00,  3.3330e+03,  6.5940e+03,  5.1300e-01,  5.5400e+02],\n",
              "       [ 8.0000e+00,  3.0630e+03,  6.5240e+03,  5.7800e-01,  5.7700e+02],\n",
              "       [ 7.5000e+00,  3.3570e+03,  4.1210e+03,  5.4700e-01,  6.2800e+02],\n",
              "       [ 8.0000e+00,  3.5280e+03,  3.4950e+03,  4.8700e-01,  4.8700e+02],\n",
              "       [ 6.5800e+00,  3.8020e+03,  7.8340e+03,  6.2900e-01,  6.4400e+02],\n",
              "       [ 5.0000e+00,  4.0450e+03,  1.7782e+04,  5.6600e-01,  6.4000e+02],\n",
              "       [ 7.0000e+00,  3.8970e+03,  6.3850e+03,  5.8600e-01,  7.0400e+02],\n",
              "       [ 8.5000e+00,  3.6350e+03,  3.2740e+03,  6.6300e-01,  6.4800e+02],\n",
              "       [ 7.0000e+00,  4.3450e+03,  3.9050e+03,  6.7200e-01,  9.6800e+02],\n",
              "       [ 7.0000e+00,  4.4490e+03,  4.6390e+03,  6.2600e-01,  5.8700e+02],\n",
              "       [ 7.0000e+00,  3.6560e+03,  3.9850e+03,  5.6300e-01,  6.9900e+02],\n",
              "       [ 7.0000e+00,  4.3000e+03,  3.6350e+03,  6.0300e-01,  6.3200e+02],\n",
              "       [ 7.0000e+00,  3.7450e+03,  2.6110e+03,  5.0800e-01,  5.9100e+02],\n",
              "       [ 6.0000e+00,  5.2150e+03,  2.3020e+03,  6.7200e-01,  7.8200e+02],\n",
              "       [ 9.0000e+00,  4.4760e+03,  3.9420e+03,  5.7100e-01,  5.1000e+02],\n",
              "       [ 7.0000e+00,  4.2960e+03,  4.0830e+03,  6.2300e-01,  6.1000e+02],\n",
              "       [ 7.0000e+00,  5.0020e+03,  9.7940e+03,  5.9300e-01,  5.2400e+02]])"
            ]
          },
          "metadata": {
            "tags": []
          },
          "execution_count": 6
        }
      ]
    },
    {
      "cell_type": "code",
      "metadata": {
        "id": "JcRBClzmi4xG",
        "colab_type": "code",
        "colab": {
          "base_uri": "https://localhost:8080/",
          "height": 86
        },
        "outputId": "316eb5d8-f312-48df-99ac-f2b43e231ed9"
      },
      "source": [
        "!ls -lh #to view all the file sizes"
      ],
      "execution_count": 7,
      "outputs": [
        {
          "output_type": "stream",
          "text": [
            "total 16K\n",
            "-rw-r--r-- 1 root root 5.9K Jul 28 13:10 petrol_new.txt\n",
            "-rw-r--r-- 1 root root 1.2K Jul 28 13:05 petrol.txt\n",
            "drwxr-xr-x 1 root root 4.0K Jul 10 16:29 sample_data\n"
          ],
          "name": "stdout"
        }
      ]
    },
    {
      "cell_type": "code",
      "metadata": {
        "id": "E1ccg19ci8gF",
        "colab_type": "code",
        "colab": {}
      },
      "source": [
        "#when the file size is very large, change it to compressed format as follows\n",
        "np.savez_compressed(\"petrol_z\", petrol_new) #compressed format"
      ],
      "execution_count": 8,
      "outputs": []
    },
    {
      "cell_type": "code",
      "metadata": {
        "id": "TwXXUxQBjIgf",
        "colab_type": "code",
        "colab": {
          "base_uri": "https://localhost:8080/",
          "height": 34
        },
        "outputId": "c2db9960-8df3-4256-f7b6-911cd96e91a2"
      },
      "source": [
        "!ls -lh petrol_z.npz"
      ],
      "execution_count": 14,
      "outputs": [
        {
          "output_type": "stream",
          "text": [
            "-rw-r--r-- 1 root root 1012 Jul 28 13:11 petrol_z.npz\n"
          ],
          "name": "stdout"
        }
      ]
    },
    {
      "cell_type": "code",
      "metadata": {
        "id": "1xl663IljMSi",
        "colab_type": "code",
        "colab": {}
      },
      "source": [
        ""
      ],
      "execution_count": null,
      "outputs": []
    }
  ]
}